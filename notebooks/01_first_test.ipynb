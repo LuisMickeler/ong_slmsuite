{
 "cells": [
  {
   "cell_type": "code",
   "id": "initial_id",
   "metadata": {
    "collapsed": true,
    "ExecuteTime": {
     "end_time": "2025-04-08T11:50:11.015399Z",
     "start_time": "2025-04-08T11:50:09.693478Z"
    }
   },
   "source": [
    "import numpy as np\n",
    "from slmsuite.hardware.meadowlarkbreakdown.meadowlark import Meadowlark"
   ],
   "outputs": [],
   "execution_count": 1
  },
  {
   "metadata": {
    "ExecuteTime": {
     "end_time": "2025-04-08T11:50:12.236961Z",
     "start_time": "2025-04-08T11:50:11.994781Z"
    }
   },
   "cell_type": "code",
   "source": [
    "lut_path = r\"C:\\Program Files\\Meadowlark Optics\\Blink 1920 HDMI\\LUT File\\custom_linear_LUT.lut\"\n",
    "slm = Meadowlark(lut_path=lut_path)"
   ],
   "id": "f972fb0af8fa8eb0",
   "outputs": [
    {
     "name": "stdout",
     "output_type": "stream",
     "text": [
      "Validating DPI awareness...success\n",
      "Constructing Blink SDK...success\n",
      "Loading LUT file..."
     ]
    }
   ],
   "execution_count": 2
  },
  {
   "metadata": {
    "ExecuteTime": {
     "end_time": "2025-04-08T11:50:29.216619Z",
     "start_time": "2025-04-08T11:50:29.209073Z"
    }
   },
   "cell_type": "code",
   "source": "slm.bitdepth, slm.name, slm.settle_time_s, slm.shape",
   "id": "ba0ede4530cbc72e",
   "outputs": [
    {
     "data": {
      "text/plain": [
       "(8, 'Meadowlark', 0.3, (1200, 1920))"
      ]
     },
     "execution_count": 3,
     "metadata": {},
     "output_type": "execute_result"
    }
   ],
   "execution_count": 3
  },
  {
   "metadata": {
    "ExecuteTime": {
     "end_time": "2025-04-08T11:54:29.634242Z",
     "start_time": "2025-04-08T11:54:29.595941Z"
    }
   },
   "cell_type": "code",
   "source": "display = slm.set_phase(None)",
   "id": "747d967c2f7505f3",
   "outputs": [],
   "execution_count": 10
  },
  {
   "metadata": {
    "ExecuteTime": {
     "end_time": "2025-04-08T11:53:50.689476Z",
     "start_time": "2025-04-08T11:53:23.818224Z"
    }
   },
   "cell_type": "code",
   "source": [
    "val = 1\n",
    "while True:\n",
    "    val += 10\n",
    "    val = (val % 255) + 1\n",
    "    mtrx = val*np.ones(shape=slm.shape, dtype=np.uint8)\n",
    "    display = slm.set_phase(mtrx, settle=True, phase_correct=False)"
   ],
   "id": "f07af7a4c046e3a8",
   "outputs": [
    {
     "ename": "KeyboardInterrupt",
     "evalue": "",
     "output_type": "error",
     "traceback": [
      "\u001B[31m---------------------------------------------------------------------------\u001B[39m",
      "\u001B[31mKeyboardInterrupt\u001B[39m                         Traceback (most recent call last)",
      "\u001B[36mCell\u001B[39m\u001B[36m \u001B[39m\u001B[32mIn[9]\u001B[39m\u001B[32m, line 6\u001B[39m\n\u001B[32m      4\u001B[39m val = (val % \u001B[32m255\u001B[39m) + \u001B[32m1\u001B[39m\n\u001B[32m      5\u001B[39m mtrx = val*np.ones(shape=slm.shape, dtype=np.uint8)\n\u001B[32m----> \u001B[39m\u001B[32m6\u001B[39m display = \u001B[43mslm\u001B[49m\u001B[43m.\u001B[49m\u001B[43mset_phase\u001B[49m\u001B[43m(\u001B[49m\u001B[43mmtrx\u001B[49m\u001B[43m,\u001B[49m\u001B[43m \u001B[49m\u001B[43msettle\u001B[49m\u001B[43m=\u001B[49m\u001B[38;5;28;43;01mTrue\u001B[39;49;00m\u001B[43m,\u001B[49m\u001B[43m \u001B[49m\u001B[43mphase_correct\u001B[49m\u001B[43m=\u001B[49m\u001B[38;5;28;43;01mFalse\u001B[39;49;00m\u001B[43m)\u001B[49m\n",
      "\u001B[36mFile \u001B[39m\u001B[32m~\\PycharmProjects\\ong_slmsuite\\slmsuite\\hardware\\meadowlarkbreakdown\\slm.py:477\u001B[39m, in \u001B[36mSLM.set_phase\u001B[39m\u001B[34m(self, phase, phase_correct, settle)\u001B[39m\n\u001B[32m    475\u001B[39m \u001B[38;5;66;03m# Optional delay.\u001B[39;00m\n\u001B[32m    476\u001B[39m \u001B[38;5;28;01mif\u001B[39;00m settle:\n\u001B[32m--> \u001B[39m\u001B[32m477\u001B[39m     \u001B[43mtime\u001B[49m\u001B[43m.\u001B[49m\u001B[43msleep\u001B[49m\u001B[43m(\u001B[49m\u001B[38;5;28;43mself\u001B[39;49m\u001B[43m.\u001B[49m\u001B[43msettle_time_s\u001B[49m\u001B[43m)\u001B[49m\n\u001B[32m    479\u001B[39m \u001B[38;5;28;01mreturn\u001B[39;00m \u001B[38;5;28mself\u001B[39m.display\n",
      "\u001B[31mKeyboardInterrupt\u001B[39m: "
     ]
    }
   ],
   "execution_count": 9
  }
 ],
 "metadata": {
  "kernelspec": {
   "display_name": "Python 3",
   "language": "python",
   "name": "python3"
  },
  "language_info": {
   "codemirror_mode": {
    "name": "ipython",
    "version": 2
   },
   "file_extension": ".py",
   "mimetype": "text/x-python",
   "name": "python",
   "nbconvert_exporter": "python",
   "pygments_lexer": "ipython2",
   "version": "2.7.6"
  }
 },
 "nbformat": 4,
 "nbformat_minor": 5
}
