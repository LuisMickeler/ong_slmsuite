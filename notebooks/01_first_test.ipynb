{
 "cells": [
  {
   "cell_type": "code",
   "id": "initial_id",
   "metadata": {
    "collapsed": true,
    "ExecuteTime": {
     "end_time": "2025-04-10T10:17:38.929366Z",
     "start_time": "2025-04-10T10:17:33.873891Z"
    }
   },
   "source": [
    "import numpy as np\n",
    "from slmsuite.hardware.meadowlarkbreakdown.meadowlark import Meadowlark"
   ],
   "outputs": [],
   "execution_count": 1
  },
  {
   "metadata": {
    "ExecuteTime": {
     "end_time": "2025-04-10T08:02:06.609808Z",
     "start_time": "2025-04-10T08:02:05.902377Z"
    }
   },
   "cell_type": "code",
   "source": [
    "lut_path = r\"C:\\Program Files\\Meadowlark Optics\\Blink 1920 HDMI\\LUT File\\custom_linear_LUT.lut\"\n",
    "slm = Meadowlark(lut_path=lut_path)"
   ],
   "id": "f972fb0af8fa8eb0",
   "outputs": [
    {
     "name": "stdout",
     "output_type": "stream",
     "text": [
      "Validating DPI awareness...success\n",
      "Constructing Blink SDK...success\n",
      "Loading LUT file..."
     ]
    }
   ],
   "execution_count": 2
  },
  {
   "metadata": {},
   "cell_type": "markdown",
   "source": "",
   "id": "9e2fae0cf3b9fb2f"
  },
  {
   "metadata": {
    "ExecuteTime": {
     "end_time": "2025-04-10T08:02:11.477680Z",
     "start_time": "2025-04-10T08:02:11.469274Z"
    }
   },
   "cell_type": "code",
   "source": "slm.bitdepth, slm.name, slm.settle_time_s, slm.shape",
   "id": "ba0ede4530cbc72e",
   "outputs": [
    {
     "data": {
      "text/plain": [
       "(8, 'Meadowlark', 0.3, (1200, 1920))"
      ]
     },
     "execution_count": 3,
     "metadata": {},
     "output_type": "execute_result"
    }
   ],
   "execution_count": 3
  },
  {
   "metadata": {
    "ExecuteTime": {
     "end_time": "2025-04-10T08:02:13.383148Z",
     "start_time": "2025-04-10T08:02:13.334129Z"
    }
   },
   "cell_type": "code",
   "source": "display = slm.set_phase(None)",
   "id": "747d967c2f7505f3",
   "outputs": [],
   "execution_count": 4
  },
  {
   "metadata": {
    "ExecuteTime": {
     "end_time": "2025-04-10T08:03:22.204016Z",
     "start_time": "2025-04-10T08:02:45.995419Z"
    }
   },
   "cell_type": "code",
   "source": [
    "val = 1\n",
    "while True:\n",
    "    val = (val % 255) + 1\n",
    "    mtrx = val*np.ones(shape=slm.shape, dtype=np.uint8)\n",
    "    display = slm.set_phase(mtrx, settle=True, phase_correct=False)"
   ],
   "id": "f07af7a4c046e3a8",
   "outputs": [],
   "execution_count": 6
  },
  {
   "metadata": {
    "ExecuteTime": {
     "end_time": "2025-04-10T08:04:02.437014Z",
     "start_time": "2025-04-10T08:04:02.077315Z"
    }
   },
   "cell_type": "code",
   "source": [
    "val = 255\n",
    "mtrx = val*np.ones(shape=slm.shape, dtype=np.uint8)\n",
    "display = slm.set_phase(mtrx, settle=True, phase_correct=False)"
   ],
   "id": "14d5d7ff6fbb174c",
   "outputs": [],
   "execution_count": 10
  },
  {
   "metadata": {},
   "cell_type": "code",
   "outputs": [],
   "execution_count": null,
   "source": "",
   "id": "bf1bf6362dc2434b"
  }
 ],
 "metadata": {
  "kernelspec": {
   "display_name": "Python 3",
   "language": "python",
   "name": "python3"
  },
  "language_info": {
   "codemirror_mode": {
    "name": "ipython",
    "version": 2
   },
   "file_extension": ".py",
   "mimetype": "text/x-python",
   "name": "python",
   "nbconvert_exporter": "python",
   "pygments_lexer": "ipython2",
   "version": "2.7.6"
  }
 },
 "nbformat": 4,
 "nbformat_minor": 5
}
