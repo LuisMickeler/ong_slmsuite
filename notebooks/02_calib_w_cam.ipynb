{
 "cells": [
  {
   "cell_type": "code",
   "id": "78c248d9",
   "metadata": {
    "ExecuteTime": {
     "end_time": "2025-04-10T09:17:18.765874Z",
     "start_time": "2025-04-10T09:17:13.355242Z"
    }
   },
   "source": [
    "import os\n",
    "import numpy as np\n",
    "from src.helpers import plot_intensity, AOI_cam, temperature_stabilisation\n",
    "from slmsuite.hardware.meadowlarkbreakdown.meadowlark import Meadowlark\n",
    "\n",
    "print(\"Current working directory:\", os.getcwd())"
   ],
   "outputs": [
    {
     "ename": "ModuleNotFoundError",
     "evalue": "No module named 'cv2'",
     "output_type": "error",
     "traceback": [
      "\u001B[1;31m---------------------------------------------------------------------------\u001B[0m",
      "\u001B[1;31mModuleNotFoundError\u001B[0m                       Traceback (most recent call last)",
      "Cell \u001B[1;32mIn[1], line 4\u001B[0m\n\u001B[0;32m      2\u001B[0m \u001B[38;5;28;01mimport\u001B[39;00m\u001B[38;5;250m \u001B[39m\u001B[38;5;21;01mnumpy\u001B[39;00m\u001B[38;5;250m \u001B[39m\u001B[38;5;28;01mas\u001B[39;00m\u001B[38;5;250m \u001B[39m\u001B[38;5;21;01mnp\u001B[39;00m\n\u001B[0;32m      3\u001B[0m \u001B[38;5;28;01mfrom\u001B[39;00m\u001B[38;5;250m \u001B[39m\u001B[38;5;21;01msrc\u001B[39;00m\u001B[38;5;21;01m.\u001B[39;00m\u001B[38;5;21;01mhelpers\u001B[39;00m\u001B[38;5;250m \u001B[39m\u001B[38;5;28;01mimport\u001B[39;00m plot_intensity, AOI_cam, temperature_stabilisation\n\u001B[1;32m----> 4\u001B[0m \u001B[38;5;28;01mfrom\u001B[39;00m\u001B[38;5;250m \u001B[39m\u001B[38;5;21;01mslmsuite\u001B[39;00m\u001B[38;5;21;01m.\u001B[39;00m\u001B[38;5;21;01mhardware\u001B[39;00m\u001B[38;5;21;01m.\u001B[39;00m\u001B[38;5;21;01mmeadowlarkbreakdown\u001B[39;00m\u001B[38;5;21;01m.\u001B[39;00m\u001B[38;5;21;01mmeadowlark\u001B[39;00m\u001B[38;5;250m \u001B[39m\u001B[38;5;28;01mimport\u001B[39;00m Meadowlark\n\u001B[0;32m      6\u001B[0m \u001B[38;5;28mprint\u001B[39m(\u001B[38;5;124m\"\u001B[39m\u001B[38;5;124mCurrent working directory:\u001B[39m\u001B[38;5;124m\"\u001B[39m, os\u001B[38;5;241m.\u001B[39mgetcwd())\n",
      "File \u001B[1;32mX:\\2025\\4_Seraina_Leuthold\\01_Data\\01_Code\\semesterproject_fully-optical-nn\\slmsuite\\hardware\\__init__.py:6\u001B[0m\n\u001B[0;32m      3\u001B[0m \u001B[38;5;28;01mimport\u001B[39;00m\u001B[38;5;250m \u001B[39m\u001B[38;5;21;01mdatetime\u001B[39;00m\n\u001B[0;32m      5\u001B[0m \u001B[38;5;28;01mfrom\u001B[39;00m\u001B[38;5;250m \u001B[39m\u001B[38;5;21;01mslmsuite\u001B[39;00m\u001B[38;5;250m \u001B[39m\u001B[38;5;28;01mimport\u001B[39;00m __version__\n\u001B[1;32m----> 6\u001B[0m \u001B[38;5;28;01mfrom\u001B[39;00m\u001B[38;5;250m \u001B[39m\u001B[38;5;21;01mslmsuite\u001B[39;00m\u001B[38;5;21;01m.\u001B[39;00m\u001B[38;5;21;01mmisc\u001B[39;00m\u001B[38;5;21;01m.\u001B[39;00m\u001B[38;5;21;01mfiles\u001B[39;00m\u001B[38;5;250m \u001B[39m\u001B[38;5;28;01mimport\u001B[39;00m generate_path, latest_path, save_h5, load_h5\n\u001B[0;32m      8\u001B[0m \u001B[38;5;28;01mclass\u001B[39;00m\u001B[38;5;250m \u001B[39m\u001B[38;5;21;01m_Picklable\u001B[39;00m:\n\u001B[0;32m      9\u001B[0m \u001B[38;5;250m    \u001B[39m\u001B[38;5;124;03m\"\"\"\u001B[39;00m\n\u001B[0;32m     10\u001B[0m \u001B[38;5;124;03m    Class for hardware objects to handle state saving.\u001B[39;00m\n\u001B[0;32m     11\u001B[0m \u001B[38;5;124;03m    \"\"\"\u001B[39;00m\n",
      "File \u001B[1;32mX:\\2025\\4_Seraina_Leuthold\\01_Data\\01_Code\\semesterproject_fully-optical-nn\\slmsuite\\misc\\files.py:2\u001B[0m\n\u001B[0;32m      1\u001B[0m \u001B[38;5;66;03m# Import for backwards compatibility\u001B[39;00m\n\u001B[1;32m----> 2\u001B[0m \u001B[38;5;28;01mfrom\u001B[39;00m\u001B[38;5;250m \u001B[39m\u001B[38;5;21;01mslmsuite\u001B[39;00m\u001B[38;5;21;01m.\u001B[39;00m\u001B[38;5;21;01mholography\u001B[39;00m\u001B[38;5;21;01m.\u001B[39;00m\u001B[38;5;21;01manalysis\u001B[39;00m\u001B[38;5;21;01m.\u001B[39;00m\u001B[38;5;21;01mfiles\u001B[39;00m\u001B[38;5;250m \u001B[39m\u001B[38;5;28;01mimport\u001B[39;00m \u001B[38;5;241m*\u001B[39m\n",
      "File \u001B[1;32mX:\\2025\\4_Seraina_Leuthold\\01_Data\\01_Code\\semesterproject_fully-optical-nn\\slmsuite\\holography\\analysis\\__init__.py:5\u001B[0m\n\u001B[0;32m      1\u001B[0m \u001B[38;5;124mr\u001B[39m\u001B[38;5;124;03m\"\"\"\u001B[39;00m\n\u001B[0;32m      2\u001B[0m \u001B[38;5;124;03mHelper functions for processing images.\u001B[39;00m\n\u001B[0;32m      3\u001B[0m \u001B[38;5;124;03m\"\"\"\u001B[39;00m\n\u001B[1;32m----> 5\u001B[0m \u001B[38;5;28;01mimport\u001B[39;00m\u001B[38;5;250m \u001B[39m\u001B[38;5;21;01mcv2\u001B[39;00m\n\u001B[0;32m      6\u001B[0m \u001B[38;5;28;01mimport\u001B[39;00m\u001B[38;5;250m \u001B[39m\u001B[38;5;21;01mnumpy\u001B[39;00m\u001B[38;5;250m \u001B[39m\u001B[38;5;28;01mas\u001B[39;00m\u001B[38;5;250m \u001B[39m\u001B[38;5;21;01mnp\u001B[39;00m\n\u001B[0;32m      7\u001B[0m \u001B[38;5;28;01mimport\u001B[39;00m\u001B[38;5;250m \u001B[39m\u001B[38;5;21;01mmatplotlib\u001B[39;00m\n",
      "\u001B[1;31mModuleNotFoundError\u001B[0m: No module named 'cv2'"
     ]
    }
   ],
   "execution_count": 1
  },
  {
   "cell_type": "code",
   "execution_count": null,
   "id": "c453a296",
   "metadata": {},
   "outputs": [],
   "source": [
    "lut_path = r\"C:\\Program Files\\Meadowlark Optics\\Blink 1920 HDMI\\LUT File\\custom_linear_LUT.lut\"\n",
    "slm = Meadowlark(lut_path=lut_path)"
   ]
  },
  {
   "metadata": {},
   "cell_type": "code",
   "outputs": [],
   "execution_count": null,
   "source": "display = slm.set_phase(None)",
   "id": "32b2b1e1ea62070b"
  },
  {
   "cell_type": "code",
   "execution_count": null,
   "id": "2a4d13f9",
   "metadata": {},
   "outputs": [],
   "source": [
    "num_samples = 256\n",
    "image = np.ones(shape=slm.shape, dtype=np.uint8)\n",
    "for i in range(num_samples):\n",
    "    image_curr = image * i\n",
    "    display = slm.set_phase(image_curr, settle=True)\n",
    "    if i%50==0:\n",
    "        slm.plot()"
   ]
  },
  {
   "metadata": {},
   "cell_type": "code",
   "outputs": [],
   "execution_count": null,
   "source": [
    "sdk3 = AndorSDK3()\n",
    "cam = sdk3.GetCamera(0)\n",
    "AOI_cam(cam,\n",
    "        width=400,\n",
    "        height=400,\n",
    "        left=835,\n",
    "        top=765,\n",
    ")\n",
    "\n",
    "# Cooling the camera sensor\n",
    "cam.SensorCooling = True\n",
    "temperature_stabilisation(cam)"
   ],
   "id": "ee970a86c32d3ad0"
  },
  {
   "metadata": {},
   "cell_type": "code",
   "outputs": [],
   "execution_count": null,
   "source": "",
   "id": "716755f083e0fe05"
  },
  {
   "metadata": {},
   "cell_type": "code",
   "outputs": [],
   "execution_count": null,
   "source": [
    "#with camera\n",
    "num_samples = 256\n",
    "images = np.empty([sample_num, cam.AOIWidth, cam.AOIHeight], numpy.uint8, 'C')\n",
    "display = np.ones(shape=(num_samples, slm.shape), dtype=np.uint8)\n",
    "pbar = tqdm(range(sample_num))\n",
    "for i in range(num_samples):\n",
    "    disp_image_curr = disp_image[i] * i\n",
    "    display[i] = slm.set_phase(disp_image_curr, settle=True)\n",
    "    img = cam.acquire()\n",
    "    images[i] = img.image\n",
    "    if i%50==0:\n",
    "        slm.plot()\n",
    "    pbar.set_postfix({'Temperature': cam.SensorTemperature})"
   ],
   "id": "7d12257390432daa"
  },
  {
   "metadata": {},
   "cell_type": "code",
   "outputs": [],
   "execution_count": null,
   "source": "plot_intensity(images=images, slm_array=display)",
   "id": "f401d6444c1dc33c"
  },
  {
   "cell_type": "code",
   "execution_count": null,
   "id": "eff0460edf9d4358",
   "metadata": {},
   "outputs": [],
   "source": [
    "slm.close()"
   ]
  }
 ],
 "metadata": {
  "kernelspec": {
   "display_name": "base",
   "language": "python",
   "name": "python3"
  },
  "language_info": {
   "codemirror_mode": {
    "name": "ipython",
    "version": 3
   },
   "file_extension": ".py",
   "mimetype": "text/x-python",
   "name": "python",
   "nbconvert_exporter": "python",
   "pygments_lexer": "ipython3",
   "version": "3.10.16"
  }
 },
 "nbformat": 4,
 "nbformat_minor": 5
}
